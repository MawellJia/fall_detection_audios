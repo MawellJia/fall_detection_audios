{
 "cells": [
  {
   "cell_type": "code",
   "execution_count": 1,
   "id": "ed2485cb",
   "metadata": {},
   "outputs": [],
   "source": [
    "import moviepy\n",
    "import moviepy.editor\n",
    "import os"
   ]
  },
  {
   "cell_type": "code",
   "execution_count": 2,
   "id": "4b86c0d7",
   "metadata": {},
   "outputs": [],
   "source": [
    "fall_list = os.listdir(r\"C:\\Users\\Kannan-PC\\Desktop\\Projects\\fall detection(audios)\\SisFall_videos\\SisFall_videos\\Falls\")\n",
    "non_fall_list = os.listdir(r\"C:\\Users\\Kannan-PC\\Desktop\\Projects\\fall detection(audios)\\SisFall_videos\\SisFall_videos\\Not_falls\")"
   ]
  },
  {
   "cell_type": "code",
   "execution_count": 3,
   "id": "e05d76aa",
   "metadata": {},
   "outputs": [
    {
     "data": {
      "text/plain": [
       "['F1.mp4',\n",
       " 'F10.mp4',\n",
       " 'F11.mp4',\n",
       " 'F12.mp4',\n",
       " 'F13.mp4',\n",
       " 'F14.mp4',\n",
       " 'F15.mp4',\n",
       " 'F2.mp4',\n",
       " 'F3.mp4',\n",
       " 'F4.mp4',\n",
       " 'F5.mp4',\n",
       " 'F6.mp4',\n",
       " 'F7.mp4',\n",
       " 'F8.mp4',\n",
       " 'F9.mp4']"
      ]
     },
     "execution_count": 3,
     "metadata": {},
     "output_type": "execute_result"
    }
   ],
   "source": [
    "fall_list"
   ]
  },
  {
   "cell_type": "code",
   "execution_count": 4,
   "id": "305cb38d",
   "metadata": {},
   "outputs": [
    {
     "data": {
      "text/plain": [
       "['D1.mp4',\n",
       " 'D10.mp4',\n",
       " 'D11.mp4',\n",
       " 'D12.mp4',\n",
       " 'D13.mp4',\n",
       " 'D14.mp4',\n",
       " 'D15.mp4',\n",
       " 'D16.mp4',\n",
       " 'D17.mp4',\n",
       " 'D18.mp4',\n",
       " 'D19.mp4',\n",
       " 'D2.mp4',\n",
       " 'D3.mp4',\n",
       " 'D4.mp4',\n",
       " 'D5.mp4',\n",
       " 'D6.mp4',\n",
       " 'D7.mp4',\n",
       " 'D8.mp4',\n",
       " 'D9.mp4']"
      ]
     },
     "execution_count": 4,
     "metadata": {},
     "output_type": "execute_result"
    }
   ],
   "source": [
    "non_fall_list"
   ]
  },
  {
   "cell_type": "code",
   "execution_count": 11,
   "id": "c3e44ca6",
   "metadata": {},
   "outputs": [
    {
     "name": "stderr",
     "output_type": "stream",
     "text": [
      "chunk:   6%|▌         | 26/423 [00:50<12:53,  1.95s/it, now=None]"
     ]
    },
    {
     "name": "stdout",
     "output_type": "stream",
     "text": [
      "MoviePy - Writing audio in C:\\Users\\Kannan-PC\\Desktop\\Projects\\fall detection(audios)\\SisFall_audios\\Falls\\F1.mp3\n"
     ]
    },
    {
     "name": "stderr",
     "output_type": "stream",
     "text": [
      "\n",
      "chunk:   0%|          | 0/489 [00:00<?, ?it/s, now=None]\u001b[A\n",
      "chunk:  26%|██▌       | 128/489 [00:00<00:00, 1268.75it/s, now=None]\u001b[A\n",
      "chunk:  64%|██████▍   | 315/489 [00:00<00:00, 1614.23it/s, now=None]\u001b[A\n",
      "chunk:   6%|▌         | 26/423 [00:50<12:58,  1.96s/it, now=None]   \u001b[A"
     ]
    },
    {
     "name": "stdout",
     "output_type": "stream",
     "text": [
      "MoviePy - Done.\n"
     ]
    },
    {
     "name": "stderr",
     "output_type": "stream",
     "text": [
      "chunk:   6%|▌         | 26/423 [00:51<13:03,  1.97s/it, now=None]"
     ]
    },
    {
     "name": "stdout",
     "output_type": "stream",
     "text": [
      "MoviePy - Writing audio in C:\\Users\\Kannan-PC\\Desktop\\Projects\\fall detection(audios)\\SisFall_audios\\Falls\\F2.mp3\n"
     ]
    },
    {
     "name": "stderr",
     "output_type": "stream",
     "text": [
      "\n",
      "chunk:   0%|          | 0/451 [00:00<?, ?it/s, now=None]\u001b[A\n",
      "chunk:  33%|███▎      | 151/451 [00:00<00:00, 1418.86it/s, now=None]\u001b[A\n",
      "chunk:  70%|██████▉   | 314/451 [00:00<00:00, 1539.71it/s, now=None]\u001b[A\n",
      "chunk:   6%|▌         | 26/423 [00:51<13:08,  1.99s/it, now=None]   \u001b[A"
     ]
    },
    {
     "name": "stdout",
     "output_type": "stream",
     "text": [
      "MoviePy - Done.\n"
     ]
    },
    {
     "name": "stderr",
     "output_type": "stream",
     "text": [
      "chunk:   6%|▌         | 26/423 [00:52<13:14,  2.00s/it, now=None]"
     ]
    },
    {
     "name": "stdout",
     "output_type": "stream",
     "text": [
      "MoviePy - Writing audio in C:\\Users\\Kannan-PC\\Desktop\\Projects\\fall detection(audios)\\SisFall_audios\\Falls\\F3.mp3\n"
     ]
    },
    {
     "name": "stderr",
     "output_type": "stream",
     "text": [
      "\n",
      "chunk:   0%|          | 0/444 [00:00<?, ?it/s, now=None]\u001b[A\n",
      "chunk:  32%|███▏      | 144/444 [00:00<00:00, 1436.56it/s, now=None]\u001b[A\n",
      "chunk:  79%|███████▉  | 351/444 [00:00<00:00, 1741.59it/s, now=None]\u001b[A\n",
      "chunk:   6%|▌         | 26/423 [00:52<13:18,  2.01s/it, now=None]   \u001b[A"
     ]
    },
    {
     "name": "stdout",
     "output_type": "stream",
     "text": [
      "MoviePy - Done.\n"
     ]
    },
    {
     "name": "stderr",
     "output_type": "stream",
     "text": [
      "chunk:   6%|▌         | 26/423 [00:52<13:23,  2.02s/it, now=None]"
     ]
    },
    {
     "name": "stdout",
     "output_type": "stream",
     "text": [
      "MoviePy - Writing audio in C:\\Users\\Kannan-PC\\Desktop\\Projects\\fall detection(audios)\\SisFall_audios\\Falls\\F4.mp3\n"
     ]
    },
    {
     "name": "stderr",
     "output_type": "stream",
     "text": [
      "\n",
      "chunk:   0%|          | 0/455 [00:00<?, ?it/s, now=None]\u001b[A\n",
      "chunk:  34%|███▎      | 153/455 [00:00<00:00, 1339.16it/s, now=None]\u001b[A\n",
      "chunk:  78%|███████▊  | 357/455 [00:00<00:00, 1592.48it/s, now=None]\u001b[A\n",
      "chunk:   6%|▌         | 26/423 [00:52<13:28,  2.04s/it, now=None]   \u001b[A"
     ]
    },
    {
     "name": "stdout",
     "output_type": "stream",
     "text": [
      "MoviePy - Done.\n"
     ]
    },
    {
     "name": "stderr",
     "output_type": "stream",
     "text": [
      "chunk:   6%|▌         | 26/423 [00:53<13:33,  2.05s/it, now=None]"
     ]
    },
    {
     "name": "stdout",
     "output_type": "stream",
     "text": [
      "MoviePy - Writing audio in C:\\Users\\Kannan-PC\\Desktop\\Projects\\fall detection(audios)\\SisFall_audios\\Falls\\F5.mp3\n"
     ]
    },
    {
     "name": "stderr",
     "output_type": "stream",
     "text": [
      "\n",
      "chunk:   0%|          | 0/459 [00:00<?, ?it/s, now=None]\u001b[A\n",
      "chunk:  54%|█████▍    | 250/459 [00:00<00:00, 2169.80it/s, now=None]\u001b[A\n",
      "chunk:   6%|▌         | 26/423 [00:53<13:38,  2.06s/it, now=None]   \u001b[A"
     ]
    },
    {
     "name": "stdout",
     "output_type": "stream",
     "text": [
      "MoviePy - Done.\n"
     ]
    },
    {
     "name": "stderr",
     "output_type": "stream",
     "text": [
      "chunk:   6%|▌         | 26/423 [00:53<13:43,  2.07s/it, now=None]"
     ]
    },
    {
     "name": "stdout",
     "output_type": "stream",
     "text": [
      "MoviePy - Writing audio in C:\\Users\\Kannan-PC\\Desktop\\Projects\\fall detection(audios)\\SisFall_audios\\Falls\\F6.mp3\n"
     ]
    },
    {
     "name": "stderr",
     "output_type": "stream",
     "text": [
      "\n",
      "chunk:   0%|          | 0/471 [00:00<?, ?it/s, now=None]\u001b[A\n",
      "chunk:  24%|██▍       | 113/471 [00:00<00:00, 1122.35it/s, now=None]\u001b[A\n",
      "chunk:  62%|██████▏   | 293/471 [00:00<00:00, 1513.64it/s, now=None]\u001b[A\n",
      "chunk: 100%|█████████▉| 469/471 [00:00<00:00, 1620.11it/s, now=None]\u001b[A\n",
      "chunk:   6%|▌         | 26/423 [00:54<13:48,  2.09s/it, now=None]   \u001b[A"
     ]
    },
    {
     "name": "stdout",
     "output_type": "stream",
     "text": [
      "MoviePy - Done.\n"
     ]
    },
    {
     "name": "stderr",
     "output_type": "stream",
     "text": [
      "chunk:   6%|▌         | 26/423 [00:54<13:53,  2.10s/it, now=None]"
     ]
    },
    {
     "name": "stdout",
     "output_type": "stream",
     "text": [
      "MoviePy - Writing audio in C:\\Users\\Kannan-PC\\Desktop\\Projects\\fall detection(audios)\\SisFall_audios\\Falls\\F7.mp3\n"
     ]
    },
    {
     "name": "stderr",
     "output_type": "stream",
     "text": [
      "\n",
      "chunk:   0%|          | 0/431 [00:00<?, ?it/s, now=None]\u001b[A\n",
      "chunk:  31%|███       | 133/431 [00:00<00:00, 1281.62it/s, now=None]\u001b[A\n",
      "chunk:  73%|███████▎  | 314/431 [00:00<00:00, 1580.97it/s, now=None]\u001b[A\n",
      "chunk:   6%|▌         | 26/423 [00:54<13:58,  2.11s/it, now=None]   \u001b[A"
     ]
    },
    {
     "name": "stdout",
     "output_type": "stream",
     "text": [
      "MoviePy - Done.\n"
     ]
    },
    {
     "name": "stderr",
     "output_type": "stream",
     "text": [
      "chunk:   6%|▌         | 26/423 [00:55<14:03,  2.12s/it, now=None]"
     ]
    },
    {
     "name": "stdout",
     "output_type": "stream",
     "text": [
      "MoviePy - Writing audio in C:\\Users\\Kannan-PC\\Desktop\\Projects\\fall detection(audios)\\SisFall_audios\\Falls\\F8.mp3\n"
     ]
    },
    {
     "name": "stderr",
     "output_type": "stream",
     "text": [
      "\n",
      "chunk:   0%|          | 0/442 [00:00<?, ?it/s, now=None]\u001b[A\n",
      "chunk:  29%|██▊       | 127/442 [00:00<00:00, 1260.77it/s, now=None]\u001b[A\n",
      "chunk:  69%|██████▉   | 307/442 [00:00<00:00, 1568.87it/s, now=None]\u001b[A\n",
      "chunk:   6%|▌         | 26/423 [00:55<14:07,  2.14s/it, now=None]   \u001b[A"
     ]
    },
    {
     "name": "stdout",
     "output_type": "stream",
     "text": [
      "MoviePy - Done.\n"
     ]
    },
    {
     "name": "stderr",
     "output_type": "stream",
     "text": [
      "chunk:   6%|▌         | 26/423 [00:55<14:12,  2.15s/it, now=None]"
     ]
    },
    {
     "name": "stdout",
     "output_type": "stream",
     "text": [
      "MoviePy - Writing audio in C:\\Users\\Kannan-PC\\Desktop\\Projects\\fall detection(audios)\\SisFall_audios\\Falls\\F9.mp3\n"
     ]
    },
    {
     "name": "stderr",
     "output_type": "stream",
     "text": [
      "\n",
      "chunk:   0%|          | 0/438 [00:00<?, ?it/s, now=None]\u001b[A\n",
      "chunk:  28%|██▊       | 122/438 [00:00<00:00, 1217.48it/s, now=None]\u001b[A\n",
      "chunk:  70%|███████   | 307/438 [00:00<00:00, 1566.22it/s, now=None]\u001b[A\n",
      "chunk:   6%|▌         | 26/423 [00:56<14:17,  2.16s/it, now=None]   \u001b[A"
     ]
    },
    {
     "name": "stdout",
     "output_type": "stream",
     "text": [
      "MoviePy - Done.\n"
     ]
    },
    {
     "name": "stderr",
     "output_type": "stream",
     "text": [
      "chunk:   6%|▌         | 26/423 [00:56<14:22,  2.17s/it, now=None]"
     ]
    },
    {
     "name": "stdout",
     "output_type": "stream",
     "text": [
      "MoviePy - Writing audio in C:\\Users\\Kannan-PC\\Desktop\\Projects\\fall detection(audios)\\SisFall_audios\\Falls\\F10.mp3\n"
     ]
    },
    {
     "name": "stderr",
     "output_type": "stream",
     "text": [
      "\n",
      "chunk:   0%|          | 0/447 [00:00<?, ?it/s, now=None]\u001b[A\n",
      "chunk:  29%|██▉       | 129/447 [00:00<00:00, 1280.17it/s, now=None]\u001b[A\n",
      "chunk:  66%|██████▋   | 297/447 [00:00<00:00, 1509.85it/s, now=None]\u001b[A\n",
      "chunk:   6%|▌         | 26/423 [00:56<14:27,  2.18s/it, now=None]   \u001b[A"
     ]
    },
    {
     "name": "stdout",
     "output_type": "stream",
     "text": [
      "MoviePy - Done.\n"
     ]
    },
    {
     "name": "stderr",
     "output_type": "stream",
     "text": [
      "chunk:   6%|▌         | 26/423 [00:57<14:32,  2.20s/it, now=None]"
     ]
    },
    {
     "name": "stdout",
     "output_type": "stream",
     "text": [
      "MoviePy - Writing audio in C:\\Users\\Kannan-PC\\Desktop\\Projects\\fall detection(audios)\\SisFall_audios\\Falls\\F11.mp3\n"
     ]
    },
    {
     "name": "stderr",
     "output_type": "stream",
     "text": [
      "\n",
      "chunk:   0%|          | 0/450 [00:00<?, ?it/s, now=None]\u001b[A\n",
      "chunk:  30%|███       | 137/450 [00:00<00:00, 1317.77it/s, now=None]\u001b[A\n",
      "chunk:  79%|███████▉  | 357/450 [00:00<00:00, 1704.93it/s, now=None]\u001b[A\n",
      "chunk:   6%|▌         | 26/423 [00:57<14:36,  2.21s/it, now=None]   \u001b[A"
     ]
    },
    {
     "name": "stdout",
     "output_type": "stream",
     "text": [
      "MoviePy - Done.\n"
     ]
    },
    {
     "name": "stderr",
     "output_type": "stream",
     "text": [
      "chunk:   6%|▌         | 26/423 [00:57<14:41,  2.22s/it, now=None]"
     ]
    },
    {
     "name": "stdout",
     "output_type": "stream",
     "text": [
      "MoviePy - Writing audio in C:\\Users\\Kannan-PC\\Desktop\\Projects\\fall detection(audios)\\SisFall_audios\\Falls\\F12.mp3\n"
     ]
    },
    {
     "name": "stderr",
     "output_type": "stream",
     "text": [
      "\n",
      "chunk:   0%|          | 0/438 [00:00<?, ?it/s, now=None]\u001b[A\n",
      "chunk:  30%|██▉       | 131/438 [00:00<00:00, 1192.63it/s, now=None]\u001b[A\n",
      "chunk:  79%|███████▉  | 347/438 [00:00<00:00, 1624.38it/s, now=None]\u001b[A\n",
      "chunk:   6%|▌         | 26/423 [00:58<14:45,  2.23s/it, now=None]   \u001b[A"
     ]
    },
    {
     "name": "stdout",
     "output_type": "stream",
     "text": [
      "MoviePy - Done.\n"
     ]
    },
    {
     "name": "stderr",
     "output_type": "stream",
     "text": [
      "chunk:   6%|▌         | 26/423 [00:58<14:50,  2.24s/it, now=None]"
     ]
    },
    {
     "name": "stdout",
     "output_type": "stream",
     "text": [
      "MoviePy - Writing audio in C:\\Users\\Kannan-PC\\Desktop\\Projects\\fall detection(audios)\\SisFall_audios\\Falls\\F13.mp3\n"
     ]
    },
    {
     "name": "stderr",
     "output_type": "stream",
     "text": [
      "\n",
      "chunk:   0%|          | 0/442 [00:00<?, ?it/s, now=None]\u001b[A\n",
      "chunk:  33%|███▎      | 144/442 [00:00<00:00, 1403.19it/s, now=None]\u001b[A\n",
      "chunk:  81%|████████  | 357/442 [00:00<00:00, 1701.84it/s, now=None]\u001b[A\n",
      "chunk:   6%|▌         | 26/423 [00:58<14:54,  2.25s/it, now=None]   \u001b[A"
     ]
    },
    {
     "name": "stdout",
     "output_type": "stream",
     "text": [
      "MoviePy - Done.\n"
     ]
    },
    {
     "name": "stderr",
     "output_type": "stream",
     "text": [
      "chunk:   6%|▌         | 26/423 [00:58<14:59,  2.27s/it, now=None]"
     ]
    },
    {
     "name": "stdout",
     "output_type": "stream",
     "text": [
      "MoviePy - Writing audio in C:\\Users\\Kannan-PC\\Desktop\\Projects\\fall detection(audios)\\SisFall_audios\\Falls\\F14.mp3\n"
     ]
    },
    {
     "name": "stderr",
     "output_type": "stream",
     "text": [
      "\n",
      "chunk:   0%|          | 0/464 [00:00<?, ?it/s, now=None]\u001b[A\n",
      "chunk:  31%|███       | 143/464 [00:00<00:00, 1307.74it/s, now=None]\u001b[A\n",
      "chunk:  77%|███████▋  | 357/464 [00:00<00:00, 1658.61it/s, now=None]\u001b[A\n",
      "chunk:   6%|▌         | 26/423 [00:59<15:04,  2.28s/it, now=None]   \u001b[A"
     ]
    },
    {
     "name": "stdout",
     "output_type": "stream",
     "text": [
      "MoviePy - Done.\n"
     ]
    },
    {
     "name": "stderr",
     "output_type": "stream",
     "text": [
      "chunk:   6%|▌         | 26/423 [00:59<15:09,  2.29s/it, now=None]"
     ]
    },
    {
     "name": "stdout",
     "output_type": "stream",
     "text": [
      "MoviePy - Writing audio in C:\\Users\\Kannan-PC\\Desktop\\Projects\\fall detection(audios)\\SisFall_audios\\Falls\\F15.mp3\n"
     ]
    },
    {
     "name": "stderr",
     "output_type": "stream",
     "text": [
      "\n",
      "chunk:   0%|          | 0/441 [00:00<?, ?it/s, now=None]\u001b[A\n",
      "chunk:  32%|███▏      | 143/441 [00:00<00:00, 1403.08it/s, now=None]\u001b[A\n",
      "chunk:  81%|████████  | 357/441 [00:00<00:00, 1704.67it/s, now=None]\u001b[A\n",
      "chunk:   6%|▌         | 26/423 [00:59<15:13,  2.30s/it, now=None]   \u001b[A"
     ]
    },
    {
     "name": "stdout",
     "output_type": "stream",
     "text": [
      "MoviePy - Done.\n"
     ]
    }
   ],
   "source": [
    "count = 1\n",
    "for i in fall_list:\n",
    "    video = moviepy.editor.VideoFileClip(r\"C:\\Users\\Kannan-PC\\Desktop\\Projects\\fall detection(audios)\\SisFall_videos\\SisFall_videos\\Falls\\F\"+str(count)+\".mp4\")\n",
    "    audio = video.audio\n",
    "    audio.write_audiofile(r\"C:\\Users\\Kannan-PC\\Desktop\\Projects\\fall detection(audios)\\SisFall_audios\\Falls\\F\"+str(count)+\".mp3\")\n",
    "    count = count +1"
   ]
  },
  {
   "cell_type": "code",
   "execution_count": 16,
   "id": "92a72324",
   "metadata": {},
   "outputs": [
    {
     "name": "stderr",
     "output_type": "stream",
     "text": [
      "                                                                   \n",
      "\n",
      "\u001b[A\u001b[A                                                             \n",
      "\u001b[A                                                                \n",
      "\n",
      "\n",
      "chunk:   6%|▌         | 26/423 [20:20<5:10:29, 46.93s/it, now=None]\n",
      "\n",
      "chunk:   6%|▌         | 25/423 [18:13<4:50:10, 43.75s/it, now=None]\u001b[A\u001b[A\n",
      "chunk:   6%|▋         | 27/423 [13:45<3:21:46, 30.57s/it, now=None]\u001b[A\n",
      "\n",
      "\n",
      "chunk:   6%|▌         | 24/423 [01:36<26:40,  4.01s/it, now=None]\u001b[A\u001b[A\u001b[A"
     ]
    },
    {
     "name": "stdout",
     "output_type": "stream",
     "text": [
      "MoviePy - Writing audio in C:\\Users\\Kannan-PC\\Desktop\\Projects\\fall detection(audios)\\SisFall_audios\\Non_Falls\\D1.mp3\n"
     ]
    },
    {
     "name": "stderr",
     "output_type": "stream",
     "text": [
      "\n",
      "\n",
      "\n",
      "\n",
      "chunk:   0%|          | 0/423 [00:00<?, ?it/s, now=None]\u001b[A\u001b[A\u001b[A\u001b[A\n",
      "\n",
      "\n",
      "\n",
      "chunk:  30%|██▉       | 126/423 [00:00<00:00, 1257.21it/s, now=None]\u001b[A\u001b[A\u001b[A\u001b[A\n",
      "\n",
      "\n",
      "\n",
      "chunk:  72%|███████▏  | 306/423 [00:00<00:00, 1562.87it/s, now=None]\u001b[A\u001b[A\u001b[A\u001b[A\n",
      "\n",
      "\n",
      "\n",
      "                                                                    \u001b[A\u001b[A\u001b[A\u001b[A\n",
      "\n",
      "\u001b[A\u001b[A                                                             \n",
      "\u001b[A                                                                \n",
      "\n",
      "\n",
      "chunk:   6%|▌         | 26/423 [20:20<5:10:33, 46.94s/it, now=None]\n",
      "\n",
      "chunk:   6%|▌         | 25/423 [18:13<4:50:15, 43.76s/it, now=None]\u001b[A\u001b[A\n",
      "chunk:   6%|▋         | 27/423 [13:45<3:21:50, 30.58s/it, now=None]\u001b[A\n",
      "\n",
      "\n",
      "chunk:   6%|▌         | 24/423 [01:36<26:45,  4.02s/it, now=None]\u001b[A\u001b[A\u001b[A"
     ]
    },
    {
     "name": "stdout",
     "output_type": "stream",
     "text": [
      "MoviePy - Done.\n"
     ]
    },
    {
     "name": "stderr",
     "output_type": "stream",
     "text": [
      "                                                                   \n",
      "\n",
      "\u001b[A\u001b[A                                                             \n",
      "\u001b[A                                                                \n",
      "\n",
      "\n",
      "chunk:   6%|▌         | 26/423 [20:20<5:10:39, 46.95s/it, now=None]\n",
      "\n",
      "chunk:   6%|▌         | 25/423 [18:14<4:50:21, 43.77s/it, now=None]\u001b[A\u001b[A\n",
      "chunk:   6%|▋         | 27/423 [13:46<3:21:56, 30.60s/it, now=None]\u001b[A\n",
      "\n",
      "\n",
      "chunk:   6%|▌         | 24/423 [01:36<26:51,  4.04s/it, now=None]\u001b[A\u001b[A\u001b[A"
     ]
    },
    {
     "name": "stdout",
     "output_type": "stream",
     "text": [
      "MoviePy - Writing audio in C:\\Users\\Kannan-PC\\Desktop\\Projects\\fall detection(audios)\\SisFall_audios\\Non_Falls\\D2.mp3\n"
     ]
    },
    {
     "name": "stderr",
     "output_type": "stream",
     "text": [
      "\n",
      "\n",
      "\n",
      "\n",
      "chunk:   0%|          | 0/408 [00:00<?, ?it/s, now=None]\u001b[A\u001b[A\u001b[A\u001b[A\n",
      "\n",
      "\n",
      "\n",
      "chunk:  25%|██▌       | 102/408 [00:00<00:00, 983.38it/s, now=None]\u001b[A\u001b[A\u001b[A\u001b[A\n",
      "\n",
      "\n",
      "\n",
      "chunk:  62%|██████▎   | 255/408 [00:00<00:00, 1265.48it/s, now=None]\u001b[A\u001b[A\u001b[A\u001b[A\n",
      "\n",
      "\n",
      "\n",
      "chunk: 100%|██████████| 408/408 [00:00<00:00, 1372.90it/s, now=None]\u001b[A\u001b[A\u001b[A\u001b[A\n",
      "\n",
      "\n",
      "\n",
      "                                                                    \u001b[A\u001b[A\u001b[A\u001b[A\n",
      "\n",
      "\u001b[A\u001b[A                                                             \n",
      "\u001b[A                                                                \n",
      "\n",
      "\n",
      "chunk:   6%|▌         | 26/423 [20:21<5:10:44, 46.96s/it, now=None]\n",
      "\n",
      "chunk:   6%|▌         | 25/423 [18:14<4:50:27, 43.79s/it, now=None]\u001b[A\u001b[A\n",
      "chunk:   6%|▋         | 27/423 [13:46<3:22:01, 30.61s/it, now=None]\u001b[A\n",
      "\n",
      "\n",
      "chunk:   6%|▌         | 24/423 [01:37<26:57,  4.05s/it, now=None]\u001b[A\u001b[A\u001b[A"
     ]
    },
    {
     "name": "stdout",
     "output_type": "stream",
     "text": [
      "MoviePy - Done.\n"
     ]
    },
    {
     "name": "stderr",
     "output_type": "stream",
     "text": [
      "                                                                   \n",
      "\n",
      "\u001b[A\u001b[A                                                             \n",
      "\u001b[A                                                                \n",
      "\n",
      "\n",
      "chunk:   6%|▌         | 26/423 [20:21<5:10:50, 46.98s/it, now=None]\n",
      "\n",
      "chunk:   6%|▌         | 25/423 [18:15<4:50:33, 43.80s/it, now=None]\u001b[A\u001b[A\n",
      "chunk:   6%|▋         | 27/423 [13:46<3:22:06, 30.62s/it, now=None]\u001b[A\n",
      "\n",
      "\n",
      "chunk:   6%|▌         | 24/423 [01:37<27:03,  4.07s/it, now=None]\u001b[A\u001b[A\u001b[A"
     ]
    },
    {
     "name": "stdout",
     "output_type": "stream",
     "text": [
      "MoviePy - Writing audio in C:\\Users\\Kannan-PC\\Desktop\\Projects\\fall detection(audios)\\SisFall_audios\\Non_Falls\\D3.mp3\n"
     ]
    },
    {
     "name": "stderr",
     "output_type": "stream",
     "text": [
      "\n",
      "\n",
      "\n",
      "\n",
      "chunk:   0%|          | 0/454 [00:00<?, ?it/s, now=None]\u001b[A\u001b[A\u001b[A\u001b[A\n",
      "\n",
      "\n",
      "\n",
      "chunk:  22%|██▏       | 102/454 [00:00<00:00, 973.76it/s, now=None]\u001b[A\u001b[A\u001b[A\u001b[A\n",
      "\n",
      "\n",
      "\n",
      "chunk:  61%|██████    | 275/454 [00:00<00:00, 1403.58it/s, now=None]\u001b[A\u001b[A\u001b[A\u001b[A\n",
      "\n",
      "\n",
      "\n",
      "chunk:  94%|█████████▍| 426/454 [00:00<00:00, 1447.90it/s, now=None]\u001b[A\u001b[A\u001b[A\u001b[A\n",
      "\n",
      "\n",
      "\n",
      "                                                                    \u001b[A\u001b[A\u001b[A\u001b[A\n",
      "\u001b[A                                                                \n",
      "\n",
      "\n",
      "                                                                   \n",
      "\n",
      "\u001b[A\u001b[A                                                             \n",
      "chunk:   6%|▋         | 27/423 [13:47<3:22:12, 30.64s/it, now=None]\u001b[A\n",
      "\n",
      "\n",
      "chunk:   6%|▌         | 26/423 [20:21<5:10:56, 46.99s/it, now=None]A\u001b[A\u001b[A\n",
      "\n",
      "chunk:   6%|▌         | 25/423 [18:15<4:50:38, 43.82s/it, now=None]\u001b[A\u001b[A"
     ]
    },
    {
     "name": "stdout",
     "output_type": "stream",
     "text": [
      "MoviePy - Done.\n"
     ]
    },
    {
     "name": "stderr",
     "output_type": "stream",
     "text": [
      "\n",
      "\u001b[A                                                                \n",
      "\n",
      "\n",
      "                                                                   \n",
      "\n",
      "\u001b[A\u001b[A                                                             \n",
      "chunk:   6%|▋         | 27/423 [13:47<3:22:17, 30.65s/it, now=None]\u001b[A\n",
      "\n",
      "\n",
      "chunk:   6%|▌         | 26/423 [20:22<5:11:01, 47.01s/it, now=None]A\u001b[A\u001b[A\n",
      "\n",
      "chunk:   6%|▌         | 25/423 [18:15<4:50:44, 43.83s/it, now=None]\u001b[A\u001b[A"
     ]
    },
    {
     "name": "stdout",
     "output_type": "stream",
     "text": [
      "MoviePy - Writing audio in C:\\Users\\Kannan-PC\\Desktop\\Projects\\fall detection(audios)\\SisFall_audios\\Non_Falls\\D4.mp3\n"
     ]
    },
    {
     "name": "stderr",
     "output_type": "stream",
     "text": [
      "\n",
      "\n",
      "\n",
      "\n",
      "chunk:   0%|          | 0/398 [00:00<?, ?it/s, now=None]\u001b[A\u001b[A\u001b[A\u001b[A\n",
      "\n",
      "\n",
      "\n",
      "chunk:  31%|███       | 123/398 [00:00<00:00, 1229.19it/s, now=None]\u001b[A\u001b[A\u001b[A\u001b[A\n",
      "\n",
      "\n",
      "\n",
      "chunk:  77%|███████▋  | 306/398 [00:00<00:00, 1519.46it/s, now=None]\u001b[A\u001b[A\u001b[A\u001b[A\n",
      "\n",
      "\n",
      "\n",
      "                                                                    \u001b[A\u001b[A\u001b[A\u001b[A\n",
      "\u001b[A                                                                \n",
      "\n",
      "\n",
      "                                                                   \n",
      "\n",
      "\u001b[A\u001b[A                                                             \n",
      "chunk:   6%|▋         | 27/423 [13:47<3:22:21, 30.66s/it, now=None]\u001b[A\n",
      "\n",
      "\n",
      "chunk:   6%|▌         | 26/423 [20:22<5:11:05, 47.02s/it, now=None]A\u001b[A\u001b[A\n",
      "\n",
      "chunk:   6%|▌         | 25/423 [18:16<4:50:49, 43.84s/it, now=None]\u001b[A\u001b[A"
     ]
    },
    {
     "name": "stdout",
     "output_type": "stream",
     "text": [
      "MoviePy - Done.\n"
     ]
    },
    {
     "name": "stderr",
     "output_type": "stream",
     "text": [
      "\n",
      "\u001b[A                                                                \n",
      "\n",
      "\n",
      "                                                                   \n",
      "\n",
      "\u001b[A\u001b[A                                                             \n",
      "chunk:   6%|▋         | 27/423 [13:48<3:22:26, 30.67s/it, now=None]\u001b[A\n",
      "\n",
      "\n",
      "chunk:   6%|▌         | 26/423 [20:22<5:11:11, 47.03s/it, now=None]A\u001b[A\u001b[A\n",
      "\n",
      "chunk:   6%|▌         | 25/423 [18:16<4:50:54, 43.86s/it, now=None]\u001b[A\u001b[A"
     ]
    },
    {
     "name": "stdout",
     "output_type": "stream",
     "text": [
      "MoviePy - Writing audio in C:\\Users\\Kannan-PC\\Desktop\\Projects\\fall detection(audios)\\SisFall_audios\\Non_Falls\\D5.mp3\n"
     ]
    },
    {
     "name": "stderr",
     "output_type": "stream",
     "text": [
      "\n",
      "\n",
      "\n",
      "\n",
      "chunk:   0%|          | 0/671 [00:00<?, ?it/s, now=None]\u001b[A\u001b[A\u001b[A\u001b[A\n",
      "\n",
      "\n",
      "\n",
      "chunk:  31%|███       | 208/671 [00:00<00:00, 2060.18it/s, now=None]\u001b[A\u001b[A\u001b[A\u001b[A\n",
      "\n",
      "\n",
      "\n",
      "chunk:  62%|██████▏   | 415/671 [00:00<00:00, 1870.84it/s, now=None]\u001b[A\u001b[A\u001b[A\u001b[A\n",
      "\n",
      "\n",
      "\n",
      "chunk:  91%|█████████ | 612/671 [00:00<00:00, 1825.87it/s, now=None]\u001b[A\u001b[A\u001b[A\u001b[A\n",
      "\n",
      "\n",
      "\n",
      "                                                                    \u001b[A\u001b[A\u001b[A\u001b[A\n",
      "\u001b[A                                                                \n",
      "\n",
      "\n",
      "                                                                   \n",
      "\n",
      "\u001b[A\u001b[A                                                             \n",
      "chunk:   6%|▋         | 27/423 [13:48<3:22:33, 30.69s/it, now=None]\u001b[A\n",
      "\n",
      "\n",
      "chunk:   6%|▌         | 26/423 [20:23<5:11:17, 47.05s/it, now=None]A\u001b[A\u001b[A\n",
      "\n",
      "chunk:   6%|▌         | 25/423 [18:16<4:51:01, 43.87s/it, now=None]\u001b[A\u001b[A"
     ]
    },
    {
     "name": "stdout",
     "output_type": "stream",
     "text": [
      "MoviePy - Done.\n"
     ]
    },
    {
     "name": "stderr",
     "output_type": "stream",
     "text": [
      "\n",
      "\u001b[A                                                                \n",
      "\n",
      "\n",
      "                                                                   \n",
      "\n",
      "\u001b[A\u001b[A                                                             \n",
      "chunk:   6%|▋         | 27/423 [13:48<3:22:38, 30.70s/it, now=None]\u001b[A\n",
      "\n",
      "\n",
      "chunk:   6%|▌         | 26/423 [20:23<5:11:23, 47.06s/it, now=None]A\u001b[A\u001b[A\n",
      "\n",
      "chunk:   6%|▌         | 25/423 [18:17<4:51:07, 43.89s/it, now=None]\u001b[A\u001b[A"
     ]
    },
    {
     "name": "stdout",
     "output_type": "stream",
     "text": [
      "MoviePy - Writing audio in C:\\Users\\Kannan-PC\\Desktop\\Projects\\fall detection(audios)\\SisFall_audios\\Non_Falls\\D6.mp3\n"
     ]
    },
    {
     "name": "stderr",
     "output_type": "stream",
     "text": [
      "\n",
      "\n",
      "\n",
      "\n",
      "chunk:   0%|          | 0/665 [00:00<?, ?it/s, now=None]\u001b[A\u001b[A\u001b[A\u001b[A\n",
      "\n",
      "\n",
      "\n",
      "chunk:  15%|█▌        | 103/665 [00:00<00:00, 1020.37it/s, now=None]\u001b[A\u001b[A\u001b[A\u001b[A\n",
      "\n",
      "\n",
      "\n",
      "chunk:  39%|███▉      | 261/665 [00:00<00:00, 1341.60it/s, now=None]\u001b[A\u001b[A\u001b[A\u001b[A\n",
      "\n",
      "\n",
      "\n",
      "chunk:  62%|██████▏   | 413/665 [00:00<00:00, 1422.24it/s, now=None]\u001b[A\u001b[A\u001b[A\u001b[A\n",
      "\n",
      "\n",
      "\n",
      "chunk:  86%|████████▌ | 570/665 [00:00<00:00, 1479.38it/s, now=None]\u001b[A\u001b[A\u001b[A\u001b[A\n",
      "\n",
      "\n",
      "\n",
      "                                                                    \u001b[A\u001b[A\u001b[A\u001b[A\n",
      "\u001b[A                                                                \n",
      "\n",
      "\n",
      "                                                                   \n",
      "\n",
      "\u001b[A\u001b[A                                                             \n",
      "chunk:   6%|▋         | 27/423 [13:49<3:22:45, 30.72s/it, now=None]\u001b[A\n",
      "\n",
      "\n",
      "chunk:   6%|▌         | 26/423 [20:24<5:11:30, 47.08s/it, now=None]A\u001b[A\u001b[A\n",
      "\n",
      "chunk:   6%|▌         | 25/423 [18:17<4:51:14, 43.91s/it, now=None]\u001b[A\u001b[A"
     ]
    },
    {
     "name": "stdout",
     "output_type": "stream",
     "text": [
      "MoviePy - Done.\n"
     ]
    },
    {
     "name": "stderr",
     "output_type": "stream",
     "text": [
      "\n",
      "\u001b[A                                                                \n",
      "\n",
      "\n",
      "                                                                   \n",
      "\n",
      "\u001b[A\u001b[A                                                             \n",
      "chunk:   6%|▋         | 27/423 [13:49<3:22:50, 30.73s/it, now=None]\u001b[A\n",
      "\n",
      "\n",
      "chunk:   6%|▌         | 26/423 [20:24<5:11:36, 47.09s/it, now=None]A\u001b[A\u001b[A\n",
      "\n",
      "chunk:   6%|▌         | 25/423 [18:18<4:51:20, 43.92s/it, now=None]\u001b[A\u001b[A"
     ]
    },
    {
     "name": "stdout",
     "output_type": "stream",
     "text": [
      "MoviePy - Writing audio in C:\\Users\\Kannan-PC\\Desktop\\Projects\\fall detection(audios)\\SisFall_audios\\Non_Falls\\D7.mp3\n"
     ]
    },
    {
     "name": "stderr",
     "output_type": "stream",
     "text": [
      "\n",
      "\n",
      "\n",
      "\n",
      "chunk:   0%|          | 0/385 [00:00<?, ?it/s, now=None]\u001b[A\u001b[A\u001b[A\u001b[A\n",
      "\n",
      "\n",
      "\n",
      "chunk:  31%|███       | 120/385 [00:00<00:00, 1195.41it/s, now=None]\u001b[A\u001b[A\u001b[A\u001b[A\n",
      "\n",
      "\n",
      "\n",
      "chunk:  79%|███████▉  | 306/385 [00:00<00:00, 1509.15it/s, now=None]\u001b[A\u001b[A\u001b[A\u001b[A\n",
      "\n",
      "\n",
      "\n",
      "                                                                    \u001b[A\u001b[A\u001b[A\u001b[A\n",
      "\u001b[A                                                                \n",
      "\n",
      "\n",
      "                                                                   \n",
      "\n",
      "\u001b[A\u001b[A                                                             \n",
      "chunk:   6%|▋         | 27/423 [13:50<3:22:54, 30.74s/it, now=None]\u001b[A\n",
      "\n",
      "\n",
      "chunk:   6%|▌         | 26/423 [20:24<5:11:40, 47.10s/it, now=None]A\u001b[A\u001b[A\n",
      "\n",
      "chunk:   6%|▌         | 25/423 [18:18<4:51:25, 43.93s/it, now=None]\u001b[A\u001b[A"
     ]
    },
    {
     "name": "stdout",
     "output_type": "stream",
     "text": [
      "MoviePy - Done.\n"
     ]
    },
    {
     "name": "stderr",
     "output_type": "stream",
     "text": [
      "\n",
      "\u001b[A                                                                \n",
      "\n",
      "\n",
      "                                                                   \n",
      "\n",
      "\u001b[A\u001b[A                                                             \n",
      "chunk:   6%|▋         | 27/423 [13:50<3:23:00, 30.76s/it, now=None]\u001b[A\n",
      "\n",
      "\n",
      "chunk:   6%|▌         | 26/423 [20:25<5:11:46, 47.12s/it, now=None]A\u001b[A\u001b[A\n",
      "\n",
      "chunk:   6%|▌         | 25/423 [18:18<4:51:30, 43.95s/it, now=None]\u001b[A\u001b[A"
     ]
    },
    {
     "name": "stdout",
     "output_type": "stream",
     "text": [
      "MoviePy - Writing audio in C:\\Users\\Kannan-PC\\Desktop\\Projects\\fall detection(audios)\\SisFall_audios\\Non_Falls\\D8.mp3\n"
     ]
    },
    {
     "name": "stderr",
     "output_type": "stream",
     "text": [
      "\n",
      "\n",
      "\n",
      "\n",
      "chunk:   0%|          | 0/379 [00:00<?, ?it/s, now=None]\u001b[A\u001b[A\u001b[A\u001b[A\n",
      "\n",
      "\n",
      "\n",
      "chunk:  32%|███▏      | 122/379 [00:00<00:00, 1208.47it/s, now=None]\u001b[A\u001b[A\u001b[A\u001b[A\n",
      "\n",
      "\n",
      "\n",
      "chunk:  77%|███████▋  | 291/379 [00:00<00:00, 1485.43it/s, now=None]\u001b[A\u001b[A\u001b[A\u001b[A\n",
      "\n",
      "\n",
      "\n",
      "                                                                    \u001b[A\u001b[A\u001b[A\u001b[A\n",
      "\u001b[A                                                                \n",
      "\n",
      "\n",
      "                                                                   \n",
      "\n",
      "\u001b[A\u001b[A                                                             \n",
      "chunk:   6%|▋         | 27/423 [13:50<3:23:04, 30.77s/it, now=None]\u001b[A\n",
      "\n",
      "\n",
      "chunk:   6%|▌         | 26/423 [20:25<5:11:50, 47.13s/it, now=None]A\u001b[A\u001b[A\n",
      "\n",
      "chunk:   6%|▌         | 25/423 [18:18<4:51:35, 43.96s/it, now=None]\u001b[A\u001b[A"
     ]
    },
    {
     "name": "stdout",
     "output_type": "stream",
     "text": [
      "MoviePy - Done.\n"
     ]
    },
    {
     "name": "stderr",
     "output_type": "stream",
     "text": [
      "\n",
      "\u001b[A                                                                \n",
      "\n",
      "\n",
      "                                                                   \n",
      "\n",
      "\u001b[A\u001b[A                                                             \n",
      "chunk:   6%|▋         | 27/423 [13:51<3:23:09, 30.78s/it, now=None]\u001b[A\n",
      "\n",
      "\n",
      "chunk:   6%|▌         | 26/423 [20:25<5:11:55, 47.14s/it, now=None]A\u001b[A\u001b[A\n",
      "\n",
      "chunk:   6%|▌         | 25/423 [18:19<4:51:40, 43.97s/it, now=None]\u001b[A\u001b[A"
     ]
    },
    {
     "name": "stdout",
     "output_type": "stream",
     "text": [
      "MoviePy - Writing audio in C:\\Users\\Kannan-PC\\Desktop\\Projects\\fall detection(audios)\\SisFall_audios\\Non_Falls\\D9.mp3\n"
     ]
    },
    {
     "name": "stderr",
     "output_type": "stream",
     "text": [
      "\n",
      "\n",
      "\n",
      "\n",
      "chunk:   0%|          | 0/384 [00:00<?, ?it/s, now=None]\u001b[A\u001b[A\u001b[A\u001b[A\n",
      "\n",
      "\n",
      "\n",
      "chunk:  33%|███▎      | 127/384 [00:00<00:00, 1262.88it/s, now=None]\u001b[A\u001b[A\u001b[A\u001b[A\n",
      "\n",
      "\n",
      "\n",
      "chunk:  79%|███████▉  | 305/384 [00:00<00:00, 1566.03it/s, now=None]\u001b[A\u001b[A\u001b[A\u001b[A\n",
      "\n",
      "\n",
      "\n",
      "                                                                    \u001b[A\u001b[A\u001b[A\u001b[A\n",
      "\u001b[A                                                                \n",
      "\n",
      "\n",
      "                                                                   \n",
      "\n",
      "\u001b[A\u001b[A                                                             \n",
      "chunk:   6%|▋         | 27/423 [13:51<3:23:13, 30.79s/it, now=None]\u001b[A\n",
      "\n",
      "\n",
      "chunk:   6%|▌         | 26/423 [20:25<5:11:59, 47.15s/it, now=None]A\u001b[A\u001b[A\n",
      "\n",
      "chunk:   6%|▌         | 25/423 [18:19<4:51:45, 43.98s/it, now=None]\u001b[A\u001b[A"
     ]
    },
    {
     "name": "stdout",
     "output_type": "stream",
     "text": [
      "MoviePy - Done.\n"
     ]
    },
    {
     "name": "stderr",
     "output_type": "stream",
     "text": [
      "\n",
      "\u001b[A                                                                \n",
      "\n",
      "\n",
      "                                                                   \n",
      "\n",
      "\u001b[A\u001b[A                                                             \n",
      "chunk:   6%|▋         | 27/423 [13:51<3:23:18, 30.80s/it, now=None]\u001b[A\n",
      "\n",
      "\n",
      "chunk:   6%|▌         | 26/423 [20:26<5:12:05, 47.17s/it, now=None]A\u001b[A\u001b[A\n",
      "\n",
      "chunk:   6%|▌         | 25/423 [18:19<4:51:50, 44.00s/it, now=None]\u001b[A\u001b[A"
     ]
    },
    {
     "name": "stdout",
     "output_type": "stream",
     "text": [
      "MoviePy - Writing audio in C:\\Users\\Kannan-PC\\Desktop\\Projects\\fall detection(audios)\\SisFall_audios\\Non_Falls\\D10.mp3\n"
     ]
    },
    {
     "name": "stderr",
     "output_type": "stream",
     "text": [
      "\n",
      "\n",
      "\n",
      "\n",
      "chunk:   0%|          | 0/398 [00:00<?, ?it/s, now=None]\u001b[A\u001b[A\u001b[A\u001b[A\n",
      "\n",
      "\n",
      "\n",
      "chunk:  31%|███       | 123/398 [00:00<00:00, 1221.07it/s, now=None]\u001b[A\u001b[A\u001b[A\u001b[A\n",
      "\n",
      "\n",
      "\n",
      "chunk:  75%|███████▌  | 300/398 [00:00<00:00, 1534.19it/s, now=None]\u001b[A\u001b[A\u001b[A\u001b[A\n",
      "\n",
      "\n",
      "\n",
      "                                                                    \u001b[A\u001b[A\u001b[A\u001b[A\n",
      "\u001b[A                                                                \n",
      "\n",
      "\n",
      "                                                                   \n",
      "\n",
      "\u001b[A\u001b[A                                                             \n",
      "chunk:   6%|▋         | 27/423 [13:52<3:23:22, 30.81s/it, now=None]\u001b[A\n",
      "\n",
      "\n",
      "chunk:   6%|▌         | 26/423 [20:26<5:12:09, 47.18s/it, now=None]A\u001b[A\u001b[A\n",
      "\n",
      "chunk:   6%|▌         | 25/423 [18:20<4:51:55, 44.01s/it, now=None]\u001b[A\u001b[A"
     ]
    },
    {
     "name": "stdout",
     "output_type": "stream",
     "text": [
      "MoviePy - Done.\n"
     ]
    },
    {
     "name": "stderr",
     "output_type": "stream",
     "text": [
      "\n",
      "\u001b[A                                                                \n",
      "\n",
      "\n",
      "                                                                   \n",
      "\n",
      "\u001b[A\u001b[A                                                             \n",
      "chunk:   6%|▋         | 27/423 [13:52<3:23:27, 30.83s/it, now=None]\u001b[A\n",
      "\n",
      "\n",
      "chunk:   6%|▌         | 26/423 [20:26<5:12:14, 47.19s/it, now=None]A\u001b[A\u001b[A\n",
      "\n",
      "chunk:   6%|▌         | 25/423 [18:20<4:52:00, 44.02s/it, now=None]\u001b[A\u001b[A"
     ]
    },
    {
     "name": "stdout",
     "output_type": "stream",
     "text": [
      "MoviePy - Writing audio in C:\\Users\\Kannan-PC\\Desktop\\Projects\\fall detection(audios)\\SisFall_audios\\Non_Falls\\D11.mp3\n"
     ]
    },
    {
     "name": "stderr",
     "output_type": "stream",
     "text": [
      "\n",
      "\n",
      "\n",
      "\n",
      "chunk:   0%|          | 0/393 [00:00<?, ?it/s, now=None]\u001b[A\u001b[A\u001b[A\u001b[A\n",
      "\n",
      "\n",
      "\n",
      "chunk:  33%|███▎      | 129/393 [00:00<00:00, 1288.66it/s, now=None]\u001b[A\u001b[A\u001b[A\u001b[A\n",
      "\n",
      "\n",
      "\n",
      "chunk:  70%|███████   | 276/393 [00:00<00:00, 1394.25it/s, now=None]\u001b[A\u001b[A\u001b[A\u001b[A\n",
      "\n",
      "\n",
      "\n",
      "                                                                    \u001b[A\u001b[A\u001b[A\u001b[A\n",
      "\u001b[A                                                                \n",
      "\n",
      "\n",
      "                                                                   \n",
      "\n",
      "\u001b[A\u001b[A                                                             \n",
      "chunk:   6%|▋         | 27/423 [13:52<3:23:32, 30.84s/it, now=None]\u001b[A\n",
      "\n",
      "\n",
      "chunk:   6%|▌         | 26/423 [20:27<5:12:19, 47.20s/it, now=None]A\u001b[A\u001b[A\n",
      "\n",
      "chunk:   6%|▌         | 25/423 [18:20<4:52:05, 44.03s/it, now=None]\u001b[A\u001b[A"
     ]
    },
    {
     "name": "stdout",
     "output_type": "stream",
     "text": [
      "MoviePy - Done.\n"
     ]
    },
    {
     "name": "stderr",
     "output_type": "stream",
     "text": [
      "\n",
      "\u001b[A                                                                \n",
      "\n",
      "\n",
      "                                                                   \n",
      "\n",
      "\u001b[A\u001b[A                                                             \n",
      "chunk:   6%|▋         | 27/423 [13:52<3:23:37, 30.85s/it, now=None]\u001b[A\n",
      "\n",
      "\n",
      "chunk:   6%|▌         | 26/423 [20:27<5:12:24, 47.22s/it, now=None]A\u001b[A\u001b[A\n",
      "\n",
      "chunk:   6%|▌         | 25/423 [18:21<4:52:11, 44.05s/it, now=None]\u001b[A\u001b[A"
     ]
    },
    {
     "name": "stdout",
     "output_type": "stream",
     "text": [
      "MoviePy - Writing audio in C:\\Users\\Kannan-PC\\Desktop\\Projects\\fall detection(audios)\\SisFall_audios\\Non_Falls\\D12.mp3\n"
     ]
    },
    {
     "name": "stderr",
     "output_type": "stream",
     "text": [
      "\n",
      "\n",
      "\n",
      "\n",
      "chunk:   0%|          | 0/395 [00:00<?, ?it/s, now=None]\u001b[A\u001b[A\u001b[A\u001b[A\n",
      "\n",
      "\n",
      "\n",
      "chunk:  35%|███▍      | 137/395 [00:00<00:00, 1367.55it/s, now=None]\u001b[A\u001b[A\u001b[A\u001b[A\n",
      "\n",
      "\n",
      "\n",
      "chunk:  81%|████████▏ | 321/395 [00:00<00:00, 1559.69it/s, now=None]\u001b[A\u001b[A\u001b[A\u001b[A\n",
      "\n",
      "\n",
      "\n",
      "                                                                    \u001b[A\u001b[A\u001b[A\u001b[A\n",
      "\u001b[A                                                                \n",
      "\n",
      "\n",
      "                                                                   \n",
      "\n",
      "\u001b[A\u001b[A                                                             \n",
      "chunk:   6%|▋         | 27/423 [13:53<3:23:41, 30.86s/it, now=None]\u001b[A\n",
      "\n",
      "\n",
      "chunk:   6%|▌         | 26/423 [20:27<5:12:29, 47.23s/it, now=None]A\u001b[A\u001b[A\n",
      "\n",
      "chunk:   6%|▌         | 25/423 [18:21<4:52:15, 44.06s/it, now=None]\u001b[A\u001b[A"
     ]
    },
    {
     "name": "stdout",
     "output_type": "stream",
     "text": [
      "MoviePy - Done.\n"
     ]
    },
    {
     "name": "stderr",
     "output_type": "stream",
     "text": [
      "\n",
      "\u001b[A                                                                \n",
      "\n",
      "\n",
      "                                                                   \n",
      "\n",
      "\u001b[A\u001b[A                                                             \n",
      "chunk:   6%|▋         | 27/423 [13:53<3:23:46, 30.87s/it, now=None]\u001b[A\n",
      "\n",
      "\n",
      "chunk:   6%|▌         | 26/423 [20:28<5:12:34, 47.24s/it, now=None]A\u001b[A\u001b[A\n",
      "\n",
      "chunk:   6%|▌         | 25/423 [18:21<4:52:21, 44.07s/it, now=None]\u001b[A\u001b[A"
     ]
    },
    {
     "name": "stdout",
     "output_type": "stream",
     "text": [
      "MoviePy - Writing audio in C:\\Users\\Kannan-PC\\Desktop\\Projects\\fall detection(audios)\\SisFall_audios\\Non_Falls\\D13.mp3\n"
     ]
    },
    {
     "name": "stderr",
     "output_type": "stream",
     "text": [
      "\n",
      "\n",
      "\n",
      "\n",
      "chunk:   0%|          | 0/390 [00:00<?, ?it/s, now=None]\u001b[A\u001b[A\u001b[A\u001b[A\n",
      "\n",
      "\n",
      "\n",
      "chunk:  35%|███▍      | 136/390 [00:00<00:00, 1329.59it/s, now=None]\u001b[A\u001b[A\u001b[A\u001b[A\n",
      "\n",
      "\n",
      "\n",
      "chunk:  78%|███████▊  | 306/390 [00:00<00:00, 1544.77it/s, now=None]\u001b[A\u001b[A\u001b[A\u001b[A\n",
      "\n",
      "\n",
      "\n",
      "                                                                    \u001b[A\u001b[A\u001b[A\u001b[A\n",
      "\u001b[A                                                                \n",
      "\n",
      "\n",
      "                                                                   \n",
      "\n",
      "\u001b[A\u001b[A                                                             \n",
      "chunk:   6%|▋         | 27/423 [13:53<3:23:50, 30.89s/it, now=None]\u001b[A\n",
      "\n",
      "\n",
      "chunk:   6%|▌         | 26/423 [20:28<5:12:38, 47.25s/it, now=None]A\u001b[A\u001b[A\n",
      "\n",
      "chunk:   6%|▌         | 25/423 [18:22<4:52:25, 44.08s/it, now=None]\u001b[A\u001b[A"
     ]
    },
    {
     "name": "stdout",
     "output_type": "stream",
     "text": [
      "MoviePy - Done.\n"
     ]
    },
    {
     "name": "stderr",
     "output_type": "stream",
     "text": [
      "\n",
      "\u001b[A                                                                \n",
      "\n",
      "\n",
      "                                                                   \n",
      "\n",
      "\u001b[A\u001b[A                                                             \n",
      "chunk:   6%|▋         | 27/423 [13:54<3:23:55, 30.90s/it, now=None]\u001b[A\n",
      "\n",
      "\n",
      "chunk:   6%|▌         | 26/423 [20:28<5:12:44, 47.27s/it, now=None]A\u001b[A\u001b[A\n",
      "\n",
      "chunk:   6%|▌         | 25/423 [18:22<4:52:31, 44.10s/it, now=None]\u001b[A\u001b[A"
     ]
    },
    {
     "name": "stdout",
     "output_type": "stream",
     "text": [
      "MoviePy - Writing audio in C:\\Users\\Kannan-PC\\Desktop\\Projects\\fall detection(audios)\\SisFall_audios\\Non_Falls\\D14.mp3\n"
     ]
    },
    {
     "name": "stderr",
     "output_type": "stream",
     "text": [
      "\n",
      "\n",
      "\n",
      "\n",
      "chunk:   0%|          | 0/404 [00:00<?, ?it/s, now=None]\u001b[A\u001b[A\u001b[A\u001b[A\n",
      "\n",
      "\n",
      "\n",
      "chunk:  38%|███▊      | 153/404 [00:00<00:00, 1310.43it/s, now=None]\u001b[A\u001b[A\u001b[A\u001b[A\n",
      "\n",
      "\n",
      "\n",
      "chunk:  80%|███████▉  | 323/404 [00:00<00:00, 1523.02it/s, now=None]\u001b[A\u001b[A\u001b[A\u001b[A\n",
      "\n",
      "\n",
      "\n",
      "                                                                    \u001b[A\u001b[A\u001b[A\u001b[A\n",
      "\u001b[A                                                                \n",
      "\n",
      "\n",
      "                                                                   \n",
      "\n",
      "\u001b[A\u001b[A                                                             \n",
      "chunk:   6%|▋         | 27/423 [13:54<3:24:00, 30.91s/it, now=None]\u001b[A\n",
      "\n",
      "\n",
      "chunk:   6%|▌         | 26/423 [20:29<5:12:48, 47.28s/it, now=None]A\u001b[A\u001b[A\n",
      "\n",
      "chunk:   6%|▌         | 25/423 [18:22<4:52:36, 44.11s/it, now=None]\u001b[A\u001b[A"
     ]
    },
    {
     "name": "stdout",
     "output_type": "stream",
     "text": [
      "MoviePy - Done.\n"
     ]
    },
    {
     "name": "stderr",
     "output_type": "stream",
     "text": [
      "\n",
      "\u001b[A                                                                \n",
      "\n",
      "\n",
      "                                                                   \n",
      "\n",
      "\u001b[A\u001b[A                                                             \n",
      "chunk:   6%|▋         | 27/423 [13:54<3:24:05, 30.92s/it, now=None]\u001b[A\n",
      "\n",
      "\n",
      "chunk:   6%|▌         | 26/423 [20:29<5:12:54, 47.29s/it, now=None]A\u001b[A\u001b[A\n",
      "\n",
      "chunk:   6%|▌         | 25/423 [18:23<4:52:41, 44.13s/it, now=None]\u001b[A\u001b[A"
     ]
    },
    {
     "name": "stdout",
     "output_type": "stream",
     "text": [
      "MoviePy - Writing audio in C:\\Users\\Kannan-PC\\Desktop\\Projects\\fall detection(audios)\\SisFall_audios\\Non_Falls\\D15.mp3\n"
     ]
    },
    {
     "name": "stderr",
     "output_type": "stream",
     "text": [
      "\n",
      "\n",
      "\n",
      "\n",
      "chunk:   0%|          | 0/400 [00:00<?, ?it/s, now=None]\u001b[A\u001b[A\u001b[A\u001b[A\n",
      "\n",
      "\n",
      "\n",
      "chunk:  38%|███▊      | 153/400 [00:00<00:00, 1363.40it/s, now=None]\u001b[A\u001b[A\u001b[A\u001b[A\n",
      "\n",
      "\n",
      "\n",
      "chunk:  79%|███████▉  | 315/400 [00:00<00:00, 1501.12it/s, now=None]\u001b[A\u001b[A\u001b[A\u001b[A\n",
      "\n",
      "\n",
      "\n",
      "                                                                    \u001b[A\u001b[A\u001b[A\u001b[A\n",
      "\u001b[A                                                                \n",
      "\n",
      "\n",
      "                                                                   \n",
      "\n",
      "\u001b[A\u001b[A                                                             \n",
      "chunk:   6%|▋         | 27/423 [13:55<3:24:09, 30.93s/it, now=None]\u001b[A\n",
      "\n",
      "\n",
      "chunk:   6%|▌         | 26/423 [20:29<5:12:58, 47.30s/it, now=None]A\u001b[A\u001b[A\n",
      "\n",
      "chunk:   6%|▌         | 25/423 [18:23<4:52:46, 44.14s/it, now=None]\u001b[A\u001b[A"
     ]
    },
    {
     "name": "stdout",
     "output_type": "stream",
     "text": [
      "MoviePy - Done.\n"
     ]
    },
    {
     "name": "stderr",
     "output_type": "stream",
     "text": [
      "\n",
      "\u001b[A                                                                \n",
      "\n",
      "\n",
      "                                                                   \n",
      "\n",
      "\u001b[A\u001b[A                                                             \n",
      "chunk:   6%|▋         | 27/423 [13:55<3:24:14, 30.95s/it, now=None]\u001b[A\n",
      "\n",
      "\n",
      "chunk:   6%|▌         | 26/423 [20:30<5:13:03, 47.31s/it, now=None]A\u001b[A\u001b[A\n",
      "\n",
      "chunk:   6%|▌         | 25/423 [18:23<4:52:51, 44.15s/it, now=None]\u001b[A\u001b[A"
     ]
    },
    {
     "name": "stdout",
     "output_type": "stream",
     "text": [
      "MoviePy - Writing audio in C:\\Users\\Kannan-PC\\Desktop\\Projects\\fall detection(audios)\\SisFall_audios\\Non_Falls\\D16.mp3\n"
     ]
    },
    {
     "name": "stderr",
     "output_type": "stream",
     "text": [
      "\n",
      "\n",
      "\n",
      "\n",
      "chunk:   0%|          | 0/387 [00:00<?, ?it/s, now=None]\u001b[A\u001b[A\u001b[A\u001b[A\n",
      "\n",
      "\n",
      "\n",
      "chunk:  33%|███▎      | 126/387 [00:00<00:00, 1248.72it/s, now=None]\u001b[A\u001b[A\u001b[A\u001b[A\n",
      "\n",
      "\n",
      "\n",
      "chunk:  73%|███████▎  | 283/387 [00:00<00:00, 1432.38it/s, now=None]\u001b[A\u001b[A\u001b[A\u001b[A\n",
      "\n",
      "\n",
      "\n",
      "                                                                    \u001b[A\u001b[A\u001b[A\u001b[A\n",
      "\u001b[A                                                                \n",
      "\n",
      "\n",
      "                                                                   \n",
      "\n",
      "\u001b[A\u001b[A                                                             \n",
      "chunk:   6%|▋         | 27/423 [13:55<3:24:19, 30.96s/it, now=None]\u001b[A\n",
      "\n",
      "\n",
      "chunk:   6%|▌         | 26/423 [20:30<5:13:08, 47.33s/it, now=None]A\u001b[A\u001b[A\n",
      "\n",
      "chunk:   6%|▌         | 25/423 [18:24<4:52:56, 44.16s/it, now=None]\u001b[A\u001b[A"
     ]
    },
    {
     "name": "stdout",
     "output_type": "stream",
     "text": [
      "MoviePy - Done.\n"
     ]
    },
    {
     "name": "stderr",
     "output_type": "stream",
     "text": [
      "\n",
      "\u001b[A                                                                \n",
      "\n",
      "\n",
      "                                                                   \n",
      "\n",
      "\u001b[A\u001b[A                                                             \n",
      "chunk:   6%|▋         | 27/423 [13:56<3:24:24, 30.97s/it, now=None]\u001b[A\n",
      "\n",
      "\n",
      "chunk:   6%|▌         | 26/423 [20:30<5:13:13, 47.34s/it, now=None]A\u001b[A\u001b[A\n",
      "\n",
      "chunk:   6%|▌         | 25/423 [18:24<4:53:02, 44.18s/it, now=None]\u001b[A\u001b[A"
     ]
    },
    {
     "name": "stdout",
     "output_type": "stream",
     "text": [
      "MoviePy - Writing audio in C:\\Users\\Kannan-PC\\Desktop\\Projects\\fall detection(audios)\\SisFall_audios\\Non_Falls\\D17.mp3\n"
     ]
    },
    {
     "name": "stderr",
     "output_type": "stream",
     "text": [
      "\n",
      "\n",
      "\n",
      "\n",
      "chunk:   0%|          | 0/684 [00:00<?, ?it/s, now=None]\u001b[A\u001b[A\u001b[A\u001b[A\n",
      "\n",
      "\n",
      "\n",
      "chunk:  17%|█▋        | 116/684 [00:00<00:00, 1157.14it/s, now=None]\u001b[A\u001b[A\u001b[A\u001b[A\n",
      "\n",
      "\n",
      "\n",
      "chunk:  42%|████▏     | 287/684 [00:00<00:00, 1480.96it/s, now=None]\u001b[A\u001b[A\u001b[A\u001b[A\n",
      "\n",
      "\n",
      "\n",
      "chunk:  67%|██████▋   | 456/684 [00:00<00:00, 1530.81it/s, now=None]\u001b[A\u001b[A\u001b[A\u001b[A\n",
      "\n",
      "\n",
      "\n",
      "chunk:  94%|█████████▍| 646/684 [00:00<00:00, 1651.45it/s, now=None]\u001b[A\u001b[A\u001b[A\u001b[A\n",
      "\n",
      "\n",
      "\n",
      "                                                                    \u001b[A\u001b[A\u001b[A\u001b[A\n",
      "\u001b[A                                                                \n",
      "\n",
      "\n",
      "                                                                   \n",
      "\n",
      "\u001b[A\u001b[A                                                             \n",
      "chunk:   6%|▋         | 27/423 [13:56<3:24:31, 30.99s/it, now=None]\u001b[A\n",
      "\n",
      "\n",
      "chunk:   6%|▌         | 26/423 [20:31<5:13:20, 47.36s/it, now=None]A\u001b[A\u001b[A\n",
      "\n",
      "chunk:   6%|▌         | 25/423 [18:24<4:53:09, 44.19s/it, now=None]\u001b[A\u001b[A"
     ]
    },
    {
     "name": "stdout",
     "output_type": "stream",
     "text": [
      "MoviePy - Done.\n"
     ]
    },
    {
     "name": "stderr",
     "output_type": "stream",
     "text": [
      "\n",
      "\u001b[A                                                                \n",
      "\n",
      "\n",
      "                                                                   \n",
      "\n",
      "\u001b[A\u001b[A                                                             \n",
      "chunk:   6%|▋         | 27/423 [13:57<3:24:36, 31.00s/it, now=None]\u001b[A\n",
      "\n",
      "\n",
      "chunk:   6%|▌         | 26/423 [20:31<5:13:26, 47.37s/it, now=None]A\u001b[A\u001b[A\n",
      "\n",
      "chunk:   6%|▌         | 25/423 [18:25<4:53:15, 44.21s/it, now=None]\u001b[A\u001b[A"
     ]
    },
    {
     "name": "stdout",
     "output_type": "stream",
     "text": [
      "MoviePy - Writing audio in C:\\Users\\Kannan-PC\\Desktop\\Projects\\fall detection(audios)\\SisFall_audios\\Non_Falls\\D18.mp3\n"
     ]
    },
    {
     "name": "stderr",
     "output_type": "stream",
     "text": [
      "\n",
      "\n",
      "\n",
      "\n",
      "chunk:   0%|          | 0/401 [00:00<?, ?it/s, now=None]\u001b[A\u001b[A\u001b[A\u001b[A\n",
      "\n",
      "\n",
      "\n",
      "chunk:  34%|███▍      | 137/401 [00:00<00:00, 1341.34it/s, now=None]\u001b[A\u001b[A\u001b[A\u001b[A\n",
      "\n",
      "\n",
      "\n",
      "chunk:  76%|███████▋  | 306/401 [00:00<00:00, 1535.71it/s, now=None]\u001b[A\u001b[A\u001b[A\u001b[A\n",
      "\n",
      "\n",
      "\n",
      "                                                                    \u001b[A\u001b[A\u001b[A\u001b[A\n",
      "\u001b[A                                                                \n",
      "\n",
      "\n",
      "                                                                   \n",
      "\n",
      "\u001b[A\u001b[A                                                             \n",
      "chunk:   6%|▋         | 27/423 [13:57<3:24:40, 31.01s/it, now=None]\u001b[A\n",
      "\n",
      "\n",
      "chunk:   6%|▌         | 26/423 [20:31<5:13:30, 47.38s/it, now=None]A\u001b[A\u001b[A\n",
      "\n",
      "chunk:   6%|▌         | 25/423 [18:25<4:53:19, 44.22s/it, now=None]\u001b[A\u001b[A"
     ]
    },
    {
     "name": "stdout",
     "output_type": "stream",
     "text": [
      "MoviePy - Done.\n"
     ]
    },
    {
     "name": "stderr",
     "output_type": "stream",
     "text": [
      "\n",
      "\u001b[A                                                                \n",
      "\n",
      "\n",
      "                                                                   \n",
      "\n",
      "\u001b[A\u001b[A                                                             \n",
      "chunk:   6%|▋         | 27/423 [13:57<3:24:45, 31.02s/it, now=None]\u001b[A\n",
      "\n",
      "\n",
      "chunk:   6%|▌         | 26/423 [20:32<5:13:36, 47.40s/it, now=None]A\u001b[A\u001b[A\n",
      "\n",
      "chunk:   6%|▌         | 25/423 [18:25<4:53:25, 44.24s/it, now=None]\u001b[A\u001b[A"
     ]
    },
    {
     "name": "stdout",
     "output_type": "stream",
     "text": [
      "MoviePy - Writing audio in C:\\Users\\Kannan-PC\\Desktop\\Projects\\fall detection(audios)\\SisFall_audios\\Non_Falls\\D19.mp3\n"
     ]
    },
    {
     "name": "stderr",
     "output_type": "stream",
     "text": [
      "\n",
      "\n",
      "\n",
      "\n",
      "chunk:   0%|          | 0/387 [00:00<?, ?it/s, now=None]\u001b[A\u001b[A\u001b[A\u001b[A\n",
      "\n",
      "\n",
      "\n",
      "chunk:  53%|█████▎    | 204/387 [00:00<00:00, 2001.16it/s, now=None]\u001b[A\u001b[A\u001b[A\u001b[A\n",
      "\n",
      "\n",
      "\n",
      "                                                                    \u001b[A\u001b[A\u001b[A\u001b[A\n",
      "\u001b[A                                                                \n",
      "\n",
      "\n",
      "                                                                   \n",
      "\n",
      "\u001b[A\u001b[A                                                             \n",
      "chunk:   6%|▋         | 27/423 [13:58<3:24:51, 31.04s/it, now=None]\u001b[A\n",
      "\n",
      "\n",
      "chunk:   6%|▌         | 26/423 [20:32<5:13:42, 47.41s/it, now=None]A\u001b[A\u001b[A\n",
      "\n",
      "chunk:   6%|▌         | 25/423 [18:26<4:53:32, 44.25s/it, now=None]\u001b[A\u001b[A"
     ]
    },
    {
     "name": "stdout",
     "output_type": "stream",
     "text": [
      "MoviePy - Done.\n"
     ]
    }
   ],
   "source": [
    "count = 1\n",
    "for i in non_fall_list:\n",
    "    video = moviepy.editor.VideoFileClip(r\"C:\\Users\\Kannan-PC\\Desktop\\Projects\\fall detection(audios)\\SisFall_videos\\SisFall_videos\\Not_falls\\D\"+str(count)+\".mp4\")\n",
    "    audio = video.audio\n",
    "    audio.write_audiofile(r\"C:\\Users\\Kannan-PC\\Desktop\\Projects\\fall detection(audios)\\SisFall_audios\\Non_Falls\\D\"+str(count)+\".mp3\")\n",
    "    count = count +1"
   ]
  },
  {
   "cell_type": "code",
   "execution_count": null,
   "id": "07638e49",
   "metadata": {},
   "outputs": [],
   "source": []
  },
  {
   "cell_type": "code",
   "execution_count": null,
   "id": "9f78b05a",
   "metadata": {},
   "outputs": [],
   "source": []
  }
 ],
 "metadata": {
  "kernelspec": {
   "display_name": "Python 3 (ipykernel)",
   "language": "python",
   "name": "python3"
  },
  "language_info": {
   "codemirror_mode": {
    "name": "ipython",
    "version": 3
   },
   "file_extension": ".py",
   "mimetype": "text/x-python",
   "name": "python",
   "nbconvert_exporter": "python",
   "pygments_lexer": "ipython3",
   "version": "3.9.7"
  }
 },
 "nbformat": 4,
 "nbformat_minor": 5
}

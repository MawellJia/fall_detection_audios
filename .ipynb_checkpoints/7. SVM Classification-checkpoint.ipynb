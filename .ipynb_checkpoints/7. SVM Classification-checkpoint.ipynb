{
 "cells": [
  {
   "cell_type": "markdown",
   "id": "b0a40bb5",
   "metadata": {},
   "source": [
    "# SVM Classification\n",
    "\n",
    "### This file has the final classification using SVM\n",
    "\n",
    "1. The data consisting of 12 features is separated into train and test in the ratio 60:40. \n",
    "2. This data is scaled and fed into the SVM. \n",
    "3. The poly kernel for our algorithm was chosen because a linear kernel was not able to capture the complexity of the data. \n",
    "4. C is chosen to be 170 and it depicts how close to the margin are the data points. \n",
    "5. Once the SVM is trained, it is tested against the test set and parameters like accuracy and error rate are obtained.\n"
   ]
  },
  {
   "cell_type": "code",
   "execution_count": null,
   "id": "cb2dcd5b",
   "metadata": {},
   "outputs": [],
   "source": []
  }
 ],
 "metadata": {
  "kernelspec": {
   "display_name": "Python 3 (ipykernel)",
   "language": "python",
   "name": "python3"
  },
  "language_info": {
   "codemirror_mode": {
    "name": "ipython",
    "version": 3
   },
   "file_extension": ".py",
   "mimetype": "text/x-python",
   "name": "python",
   "nbconvert_exporter": "python",
   "pygments_lexer": "ipython3",
   "version": "3.9.7"
  }
 },
 "nbformat": 4,
 "nbformat_minor": 5
}

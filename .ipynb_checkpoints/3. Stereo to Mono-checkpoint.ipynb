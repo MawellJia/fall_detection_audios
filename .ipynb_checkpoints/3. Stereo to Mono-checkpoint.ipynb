{
 "cells": [
  {
   "cell_type": "markdown",
   "id": "e7284e48",
   "metadata": {},
   "source": [
    "# Stereo to Mono\n",
    "\n",
    "### This file has the conversion of stereo audio to mono audio for sepctrogram generation.The steps performed are:\n"
   ]
  },
  {
   "cell_type": "markdown",
   "id": "af0b4175",
   "metadata": {},
   "source": [
    "Import Dependencies"
   ]
  },
  {
   "cell_type": "code",
   "execution_count": 4,
   "id": "2cfda70c",
   "metadata": {},
   "outputs": [],
   "source": [
    "from pydub import AudioSegment\n",
    "import os"
   ]
  },
  {
   "cell_type": "markdown",
   "id": "f1aab700",
   "metadata": {},
   "source": [
    "Create list containing names of falls and non falls audio files"
   ]
  },
  {
   "cell_type": "code",
   "execution_count": 5,
   "id": "d7af86fd",
   "metadata": {},
   "outputs": [],
   "source": [
    "fall_list = os.listdir(r\"C:\\Users\\Kannan-PC\\Desktop\\Projects\\fall detection(audios)\\SisFall_audios\\Falls\")\n",
    "non_fall_list = os.listdir(r\"C:\\Users\\Kannan-PC\\Desktop\\Projects\\fall detection(audios)\\SisFall_audios\\Not_falls\")"
   ]
  },
  {
   "cell_type": "markdown",
   "id": "6cd713ea",
   "metadata": {},
   "source": [
    "Use inbuilt functions to read the stereo audio file and convert it to mono audio file."
   ]
  },
  {
   "cell_type": "code",
   "execution_count": 10,
   "id": "2edbdf84",
   "metadata": {},
   "outputs": [],
   "source": [
    "count = 1\n",
    "for i in fall_list:\n",
    "    sound = AudioSegment.from_wav(r\"C:\\Users\\Kannan-PC\\Desktop\\Projects\\fall detection(audios)\\SisFall_audios\\Falls\\F\"+str(count)+\".wav\")\n",
    "    sound = sound.set_channels(1)\n",
    "    sound.export(r\"C:\\Users\\Kannan-PC\\Desktop\\MS\\Projects\\fall detection(audios)\\Mono_audios\\Falls\\F\"+str(count)+\".wav\", format='wav')\n",
    "    count = count + 1"
   ]
  },
  {
   "cell_type": "code",
   "execution_count": 14,
   "id": "09daab59",
   "metadata": {},
   "outputs": [],
   "source": [
    "count = 1\n",
    "for i in non_fall_list:\n",
    "    sound = AudioSegment.from_wav(r\"C:\\Users\\Kannan-PC\\Desktop\\Projects\\fall detection(audios)\\SisFall_audios\\Non_Falls\\D\"+str(count)+\".wav\")\n",
    "    sound = sound.set_channels(1)\n",
    "    sound.export(r\"C:\\Users\\Kannan-PC\\Desktop\\MS\\Projects\\fall detection(audios)\\Mono_audios\\Non_Falls\\D\"+str(count)+\".wav\", format='wav')\n",
    "    count = count + 1"
   ]
  }
 ],
 "metadata": {
  "kernelspec": {
   "display_name": "Python 3 (ipykernel)",
   "language": "python",
   "name": "python3"
  },
  "language_info": {
   "codemirror_mode": {
    "name": "ipython",
    "version": 3
   },
   "file_extension": ".py",
   "mimetype": "text/x-python",
   "name": "python",
   "nbconvert_exporter": "python",
   "pygments_lexer": "ipython3",
   "version": "3.9.7"
  }
 },
 "nbformat": 4,
 "nbformat_minor": 5
}

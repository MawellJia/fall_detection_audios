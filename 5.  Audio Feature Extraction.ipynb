{
 "cells": [
  {
   "cell_type": "markdown",
   "id": "0646ed65",
   "metadata": {},
   "source": [
    "# Audio Feature Extraction\n",
    "\n",
    "### This file has the extraction of audio features from the dataset.The steps performed are:\n",
    "\n",
    "1. From the peaks of the audio fall and non-fall data plotted, it was observed that most of the peaks last for about one tenth of a second. \n",
    "2. The peaks are those where the sound strength or the amplitude is the maximum where the fall is likely to have occurred and if each peak lasts for one tenth of a second, the amplitude could be extracted for every one tenth of a second and saved. \n",
    "3. By the use of the python library librosa, the amplitude of the data at every tenth of a second is extracted and stored.\n",
    "4. The extracted features are exported to a csv file"
   ]
  },
  {
   "cell_type": "markdown",
   "id": "f3af3867",
   "metadata": {},
   "source": [
    "Import depedencies"
   ]
  },
  {
   "cell_type": "code",
   "execution_count": 9,
   "id": "b176f4da",
   "metadata": {},
   "outputs": [],
   "source": [
    "from __future__ import print_function\n",
    "import librosa\n",
    "import librosa.display\n",
    "import numpy as np\n",
    "import datetime\n",
    "import matplotlib.pyplot as plt\n",
    "import pandas as pd\n",
    "import os"
   ]
  },
  {
   "cell_type": "markdown",
   "id": "072e58c1",
   "metadata": {},
   "source": [
    "Feature extraction for sample audio using librosa"
   ]
  },
  {
   "cell_type": "code",
   "execution_count": 10,
   "id": "ef3b384f",
   "metadata": {
    "scrolled": true
   },
   "outputs": [
    {
     "name": "stdout",
     "output_type": "stream",
     "text": [
      "22050\n",
      "            0\n",
      "0    0.000000\n",
      "1    0.000000\n",
      "2    0.000000\n",
      "3    0.000000\n",
      "4    0.000000\n",
      "..        ...\n",
      "201  0.000000\n",
      "202  0.000000\n",
      "203  0.822633\n",
      "204  6.120236\n",
      "205  0.000000\n",
      "\n",
      "[206 rows x 1 columns]\n"
     ]
    },
    {
     "name": "stderr",
     "output_type": "stream",
     "text": [
      "C:\\Users\\KANNAN~1\\AppData\\Local\\Temp/ipykernel_12636/3315270931.py:3: FutureWarning: Pass y=[ 0.          0.          0.         ...  0.00076789 -0.00413126\n",
      "  0.        ] as keyword args. From version 0.10 passing these as positional arguments will result in an error\n",
      "  duration = librosa.get_duration(y)\n"
     ]
    }
   ],
   "source": [
    "y, sr = librosa.load(r\"C:\\Users\\Kannan-PC\\Desktop\\Projects\\fall detection(audios)\\SisFall_audios\\Non_Falls\\D3.wav\")\n",
    "print(sr)\n",
    "duration = librosa.get_duration(y)\n",
    "onset_env = librosa.onset.onset_strength(y=y, sr=sr,hop_length=2205,aggregate=np.median)\n",
    "pd.set_option('display.max_columns', None)\n",
    "df=pd.DataFrame(onset_env)\n",
    "print(df)"
   ]
  },
  {
   "cell_type": "markdown",
   "id": "dd8576a5",
   "metadata": {},
   "source": [
    "Feature extraction for all falls and non falls audio using librosa"
   ]
  },
  {
   "cell_type": "code",
   "execution_count": 16,
   "id": "158013b1",
   "metadata": {},
   "outputs": [
    {
     "name": "stderr",
     "output_type": "stream",
     "text": [
      "C:\\Users\\KANNAN~1\\AppData\\Local\\Temp/ipykernel_12636/13880607.py:6: FutureWarning: Pass y=[0.         0.         0.         ... 0.00371427 0.00385678 0.        ] as keyword args. From version 0.10 passing these as positional arguments will result in an error\n",
      "  duration = librosa.get_duration(y)\n",
      "C:\\Users\\KANNAN~1\\AppData\\Local\\Temp/ipykernel_12636/13880607.py:6: FutureWarning: Pass y=[ 0.          0.          0.         ... -0.00093215 -0.0003887\n",
      " -0.00105314] as keyword args. From version 0.10 passing these as positional arguments will result in an error\n",
      "  duration = librosa.get_duration(y)\n",
      "C:\\Users\\KANNAN~1\\AppData\\Local\\Temp/ipykernel_12636/13880607.py:6: FutureWarning: Pass y=[ 0.          0.          0.         ... -0.00699014 -0.00736294\n",
      " -0.00852383] as keyword args. From version 0.10 passing these as positional arguments will result in an error\n",
      "  duration = librosa.get_duration(y)\n",
      "C:\\Users\\KANNAN~1\\AppData\\Local\\Temp/ipykernel_12636/13880607.py:6: FutureWarning: Pass y=[0.         0.         0.         ... 0.0081534  0.01050214 0.        ] as keyword args. From version 0.10 passing these as positional arguments will result in an error\n",
      "  duration = librosa.get_duration(y)\n",
      "C:\\Users\\KANNAN~1\\AppData\\Local\\Temp/ipykernel_12636/13880607.py:6: FutureWarning: Pass y=[ 0.          0.          0.         ... -0.00799354 -0.00721179\n",
      " -0.00694721] as keyword args. From version 0.10 passing these as positional arguments will result in an error\n",
      "  duration = librosa.get_duration(y)\n",
      "C:\\Users\\KANNAN~1\\AppData\\Local\\Temp/ipykernel_12636/13880607.py:6: FutureWarning: Pass y=[ 0.          0.          0.         ... -0.03303906 -0.03292333\n",
      " -0.03388458] as keyword args. From version 0.10 passing these as positional arguments will result in an error\n",
      "  duration = librosa.get_duration(y)\n",
      "C:\\Users\\KANNAN~1\\AppData\\Local\\Temp/ipykernel_12636/13880607.py:6: FutureWarning: Pass y=[0.         0.         0.         ... 0.00959861 0.00813587 0.00575452] as keyword args. From version 0.10 passing these as positional arguments will result in an error\n",
      "  duration = librosa.get_duration(y)\n",
      "C:\\Users\\KANNAN~1\\AppData\\Local\\Temp/ipykernel_12636/13880607.py:6: FutureWarning: Pass y=[0.0000000e+00 0.0000000e+00 0.0000000e+00 ... 1.5636111e-06 4.5449611e-05\n",
      " 0.0000000e+00] as keyword args. From version 0.10 passing these as positional arguments will result in an error\n",
      "  duration = librosa.get_duration(y)\n",
      "C:\\Users\\KANNAN~1\\AppData\\Local\\Temp/ipykernel_12636/13880607.py:6: FutureWarning: Pass y=[0.         0.         0.         ... 0.0077858  0.00663957 0.00592504] as keyword args. From version 0.10 passing these as positional arguments will result in an error\n",
      "  duration = librosa.get_duration(y)\n",
      "C:\\Users\\KANNAN~1\\AppData\\Local\\Temp/ipykernel_12636/13880607.py:6: FutureWarning: Pass y=[0.         0.         0.         ... 0.00343844 0.00533908 0.        ] as keyword args. From version 0.10 passing these as positional arguments will result in an error\n",
      "  duration = librosa.get_duration(y)\n",
      "C:\\Users\\KANNAN~1\\AppData\\Local\\Temp/ipykernel_12636/13880607.py:6: FutureWarning: Pass y=[0.0000000e+00 0.0000000e+00 0.0000000e+00 ... 2.2497434e-02 8.8445369e-05\n",
      " 0.0000000e+00] as keyword args. From version 0.10 passing these as positional arguments will result in an error\n",
      "  duration = librosa.get_duration(y)\n",
      "C:\\Users\\KANNAN~1\\AppData\\Local\\Temp/ipykernel_12636/13880607.py:6: FutureWarning: Pass y=[ 0.          0.          0.         ... -0.02018871 -0.01972845\n",
      " -0.01959293] as keyword args. From version 0.10 passing these as positional arguments will result in an error\n",
      "  duration = librosa.get_duration(y)\n",
      "C:\\Users\\KANNAN~1\\AppData\\Local\\Temp/ipykernel_12636/13880607.py:6: FutureWarning: Pass y=[0.         0.         0.         ... 0.01410687 0.01581042 0.        ] as keyword args. From version 0.10 passing these as positional arguments will result in an error\n",
      "  duration = librosa.get_duration(y)\n",
      "C:\\Users\\KANNAN~1\\AppData\\Local\\Temp/ipykernel_12636/13880607.py:6: FutureWarning: Pass y=[ 0.          0.          0.         ... -0.00015702  0.00760992\n",
      "  0.        ] as keyword args. From version 0.10 passing these as positional arguments will result in an error\n",
      "  duration = librosa.get_duration(y)\n",
      "C:\\Users\\KANNAN~1\\AppData\\Local\\Temp/ipykernel_12636/13880607.py:6: FutureWarning: Pass y=[ 0.          0.          0.         ... -0.01329509 -0.01165031\n",
      " -0.00870088] as keyword args. From version 0.10 passing these as positional arguments will result in an error\n",
      "  duration = librosa.get_duration(y)\n"
     ]
    }
   ],
   "source": [
    "fall_list = os.listdir(r\"C:\\Users\\Kannan-PC\\Desktop\\Projects\\fall detection(audios)\\SisFall_audios\\Falls\")\n",
    "count = 1\n",
    "\n",
    "for i in fall_list:\n",
    "    y, sr = librosa.load(r\"C:\\Users\\Kannan-PC\\Desktop\\Projects\\fall detection(audios)\\SisFall_audios\\Falls\\F\"+str(count)+\".wav\")\n",
    "    duration = librosa.get_duration(y)\n",
    "    onset_env = librosa.onset.onset_strength(y=y, sr=sr,hop_length=2205,aggregate=np.median)\n",
    "    pd.set_option('display.max_columns', None)\n",
    "    df=pd.DataFrame(onset_env)\n",
    "    df.to_csv(r\"C:\\Users\\Kannan-PC\\Desktop\\MS\\Projects\\fall detection audios\\audio_features\\falls\\F\"+str(count)+\".csv\") \n",
    "    count = count + 1\n"
   ]
  },
  {
   "cell_type": "code",
   "execution_count": 19,
   "id": "523873d4",
   "metadata": {},
   "outputs": [
    {
     "name": "stderr",
     "output_type": "stream",
     "text": [
      "C:\\Users\\KANNAN~1\\AppData\\Local\\Temp/ipykernel_12636/4099392757.py:6: FutureWarning: Pass y=[0.         0.         0.         ... 0.01762782 0.02062863 0.02394265] as keyword args. From version 0.10 passing these as positional arguments will result in an error\n",
      "  duration = librosa.get_duration(y)\n",
      "C:\\Users\\KANNAN~1\\AppData\\Local\\Temp/ipykernel_12636/4099392757.py:6: FutureWarning: Pass y=[0.         0.         0.         ... 0.0098144  0.00970801 0.01026661] as keyword args. From version 0.10 passing these as positional arguments will result in an error\n",
      "  duration = librosa.get_duration(y)\n",
      "C:\\Users\\KANNAN~1\\AppData\\Local\\Temp/ipykernel_12636/4099392757.py:6: FutureWarning: Pass y=[ 0.          0.          0.         ...  0.00076789 -0.00413126\n",
      "  0.        ] as keyword args. From version 0.10 passing these as positional arguments will result in an error\n",
      "  duration = librosa.get_duration(y)\n",
      "C:\\Users\\KANNAN~1\\AppData\\Local\\Temp/ipykernel_12636/4099392757.py:6: FutureWarning: Pass y=[ 0.          0.          0.         ... -0.01081964 -0.00597946\n",
      "  0.        ] as keyword args. From version 0.10 passing these as positional arguments will result in an error\n",
      "  duration = librosa.get_duration(y)\n",
      "C:\\Users\\KANNAN~1\\AppData\\Local\\Temp/ipykernel_12636/4099392757.py:6: FutureWarning: Pass y=[ 0.          0.          0.         ... -0.04356601 -0.06097819\n",
      " -0.08542781] as keyword args. From version 0.10 passing these as positional arguments will result in an error\n",
      "  duration = librosa.get_duration(y)\n",
      "C:\\Users\\KANNAN~1\\AppData\\Local\\Temp/ipykernel_12636/4099392757.py:6: FutureWarning: Pass y=[0.         0.         0.         ... 0.04050871 0.03552919 0.03378714] as keyword args. From version 0.10 passing these as positional arguments will result in an error\n",
      "  duration = librosa.get_duration(y)\n",
      "C:\\Users\\KANNAN~1\\AppData\\Local\\Temp/ipykernel_12636/4099392757.py:6: FutureWarning: Pass y=[0.         0.         0.         ... 0.00240309 0.00403722 0.        ] as keyword args. From version 0.10 passing these as positional arguments will result in an error\n",
      "  duration = librosa.get_duration(y)\n",
      "C:\\Users\\KANNAN~1\\AppData\\Local\\Temp/ipykernel_12636/4099392757.py:6: FutureWarning: Pass y=[ 0.          0.          0.         ... -0.03320215 -0.02987557\n",
      " -0.01919807] as keyword args. From version 0.10 passing these as positional arguments will result in an error\n",
      "  duration = librosa.get_duration(y)\n",
      "C:\\Users\\KANNAN~1\\AppData\\Local\\Temp/ipykernel_12636/4099392757.py:6: FutureWarning: Pass y=[0.         0.         0.         ... 0.00931175 0.0107718  0.        ] as keyword args. From version 0.10 passing these as positional arguments will result in an error\n",
      "  duration = librosa.get_duration(y)\n",
      "C:\\Users\\KANNAN~1\\AppData\\Local\\Temp/ipykernel_12636/4099392757.py:6: FutureWarning: Pass y=[ 0.          0.          0.         ... -0.01237467 -0.0307474\n",
      "  0.        ] as keyword args. From version 0.10 passing these as positional arguments will result in an error\n",
      "  duration = librosa.get_duration(y)\n",
      "C:\\Users\\KANNAN~1\\AppData\\Local\\Temp/ipykernel_12636/4099392757.py:6: FutureWarning: Pass y=[0.0000000e+00 0.0000000e+00 0.0000000e+00 ... 4.5777670e-06 1.1479285e-02\n",
      " 0.0000000e+00] as keyword args. From version 0.10 passing these as positional arguments will result in an error\n",
      "  duration = librosa.get_duration(y)\n",
      "C:\\Users\\KANNAN~1\\AppData\\Local\\Temp/ipykernel_12636/4099392757.py:6: FutureWarning: Pass y=[ 0.          0.          0.         ... -0.00676384 -0.00090885\n",
      "  0.        ] as keyword args. From version 0.10 passing these as positional arguments will result in an error\n",
      "  duration = librosa.get_duration(y)\n",
      "C:\\Users\\KANNAN~1\\AppData\\Local\\Temp/ipykernel_12636/4099392757.py:6: FutureWarning: Pass y=[0.         0.         0.         ... 0.0159952  0.01412269 0.01408735] as keyword args. From version 0.10 passing these as positional arguments will result in an error\n",
      "  duration = librosa.get_duration(y)\n",
      "C:\\Users\\KANNAN~1\\AppData\\Local\\Temp/ipykernel_12636/4099392757.py:6: FutureWarning: Pass y=[0.         0.         0.         ... 0.00718019 0.02194267 0.00508796] as keyword args. From version 0.10 passing these as positional arguments will result in an error\n",
      "  duration = librosa.get_duration(y)\n",
      "C:\\Users\\KANNAN~1\\AppData\\Local\\Temp/ipykernel_12636/4099392757.py:6: FutureWarning: Pass y=[0.         0.         0.         ... 0.03008643 0.02314554 0.        ] as keyword args. From version 0.10 passing these as positional arguments will result in an error\n",
      "  duration = librosa.get_duration(y)\n",
      "C:\\Users\\KANNAN~1\\AppData\\Local\\Temp/ipykernel_12636/4099392757.py:6: FutureWarning: Pass y=[0.         0.         0.         ... 0.00947241 0.01023307 0.0100327 ] as keyword args. From version 0.10 passing these as positional arguments will result in an error\n",
      "  duration = librosa.get_duration(y)\n",
      "C:\\Users\\KANNAN~1\\AppData\\Local\\Temp/ipykernel_12636/4099392757.py:6: FutureWarning: Pass y=[ 0.          0.          0.         ... -0.00697558 -0.00311707\n",
      " -0.00050896] as keyword args. From version 0.10 passing these as positional arguments will result in an error\n",
      "  duration = librosa.get_duration(y)\n",
      "C:\\Users\\KANNAN~1\\AppData\\Local\\Temp/ipykernel_12636/4099392757.py:6: FutureWarning: Pass y=[ 0.          0.          0.         ... -0.00023866  0.00088822\n",
      "  0.00218502] as keyword args. From version 0.10 passing these as positional arguments will result in an error\n",
      "  duration = librosa.get_duration(y)\n",
      "C:\\Users\\KANNAN~1\\AppData\\Local\\Temp/ipykernel_12636/4099392757.py:6: FutureWarning: Pass y=[ 0.          0.          0.         ... -0.00635163 -0.00794812\n",
      " -0.00866148] as keyword args. From version 0.10 passing these as positional arguments will result in an error\n",
      "  duration = librosa.get_duration(y)\n"
     ]
    }
   ],
   "source": [
    "fall_list = os.listdir(r\"C:\\Users\\Kannan-PC\\Desktop\\Projects\\fall detection(audios)\\SisFall_audios\\Non_Falls\")\n",
    "count = 1\n",
    "\n",
    "for i in fall_list:\n",
    "    y, sr = librosa.load(r\"C:\\Users\\Kannan-PC\\Desktop\\Projects\\fall detection(audios)\\SisFall_audios\\Non_Falls\\D\"+str(count)+\".wav\")\n",
    "    duration = librosa.get_duration(y)\n",
    "    onset_env = librosa.onset.onset_strength(y=y, sr=sr,hop_length=2205,aggregate=np.median)\n",
    "    pd.set_option('display.max_columns', None)\n",
    "    df=pd.DataFrame(onset_env)\n",
    "    df.to_csv(r\"C:\\Users\\Kannan-PC\\Desktop\\MS\\Projects\\fall detection audios\\audio_features\\non_falls\\D\"+str(count)+\".csv\") \n",
    "    count = count + 1\n"
   ]
  },
  {
   "cell_type": "markdown",
   "id": "55319d85",
   "metadata": {},
   "source": [
    "1. After generating feature files, the csv files were combined and transposed  \n",
    "2. This step was done manually.\n",
    "3. The final dataset was created having 172 features and a label value\n",
    "4. This gave a dataset having 34 rows( 19 not falls 15 falls) and 172  columns\n",
    "5. Out of which around 40 features were 0 for all the samples, which were removed\n",
    "6. The final data had 34 rows (samples) and 133 columns(features)\n",
    "7. To this the labels (0 or 1) was added"
   ]
  }
 ],
 "metadata": {
  "kernelspec": {
   "display_name": "Python 3 (ipykernel)",
   "language": "python",
   "name": "python3"
  },
  "language_info": {
   "codemirror_mode": {
    "name": "ipython",
    "version": 3
   },
   "file_extension": ".py",
   "mimetype": "text/x-python",
   "name": "python",
   "nbconvert_exporter": "python",
   "pygments_lexer": "ipython3",
   "version": "3.9.7"
  }
 },
 "nbformat": 4,
 "nbformat_minor": 5
}
